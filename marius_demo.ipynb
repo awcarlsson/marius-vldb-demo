{
 "cells": [
  {
   "cell_type": "markdown",
   "metadata": {},
   "source": [
    "# WN18 Training and Inference Example"
   ]
  },
  {
   "cell_type": "markdown",
   "metadata": {},
   "source": [
    " ### Step 1: Set up configuration file *my_config.ini*"
   ]
  },
  {
   "cell_type": "code",
   "execution_count": null,
   "metadata": {},
   "outputs": [],
   "source": [
    "[general]\n",
    "device=GPU\n",
    "comparator=Dot\n",
    "relation_type=Hadamard\n",
    "\n",
    "[model]\n",
    "embedding_size=100\n",
    "decoder=DistMult\n",
    "\n",
    "[training]\n",
    "batch_size=1000\n",
    "num_epochs=15\n",
    "\n",
    "[path]\n",
    "base_directory=wn18_data/"
   ]
  },
  {
   "cell_type": "markdown",
   "metadata": {},
   "source": [
    "### Step 2: Initialize the Config"
   ]
  },
  {
   "cell_type": "code",
   "execution_count": null,
   "metadata": {},
   "outputs": [],
   "source": [
    "import marius\n",
    "\n",
    "marius_options = marius.parseConfig(\"my_config.ini\")"
   ]
  },
  {
   "cell_type": "markdown",
   "metadata": {},
   "source": [
    "### Step 3: Define Custom Models"
   ]
  },
  {
   "cell_type": "code",
   "execution_count": null,
   "metadata": {},
   "outputs": [],
   "source": [
    "# define models here\n",
    "# set config model"
   ]
  },
  {
   "cell_type": "markdown",
   "metadata": {},
   "source": [
    "### Step 4: Learn Embeddings"
   ]
  },
  {
   "cell_type": "code",
   "execution_count": null,
   "metadata": {},
   "outputs": [],
   "source": [
    "train_set, test_set = marius.initializeDatasets()\n",
    "trainer = marius.Trainer(train_set)\n",
    "evaluator = marius.Evaluator(test_set)\n",
    "\n",
    "for epoch in range(0, marius_options.training.num_epochs, marius_options.eval.epochs_per_eval):\n",
    "    \n",
    "    num_epochs = marius_options.eval.epochs_per_eval\n",
    "    \n",
    "    if marius_options.training.num_epochs < num_epochs:\n",
    "        num_epochs = marius_options.training.num_epochs\n",
    "        trainer.train(num_epochs)\n",
    "    \n",
    "    else:\n",
    "        trainer.train(num_epochs)\n",
    "        evaluator.evaluate(epoch + marius_options.eval.epochs_per_eval < marius_options.training.num_epochs);"
   ]
  },
  {
   "cell_type": "markdown",
   "metadata": {},
   "source": [
    "# Query Marius Output for WN18 #\n",
    "This notebook shows the steps of doing inferencing with Marius output for dataset *WN18*. The example inference we used here has a node name of *__wisconsin_NN_2* and a relation type of *_instance_hypernym*."
   ]
  },
  {
   "cell_type": "markdown",
   "metadata": {},
   "source": [
    "### Import function ###"
   ]
  },
  {
   "cell_type": "code",
   "execution_count": 1,
   "metadata": {},
   "outputs": [],
   "source": [
    "import marius_infer as mi"
   ]
  },
  {
   "cell_type": "markdown",
   "metadata": {},
   "source": [
    "### Get embedding of nodes and relations ###"
   ]
  },
  {
   "cell_type": "code",
   "execution_count": 2,
   "metadata": {},
   "outputs": [],
   "source": [
    "node_embeddings = mi.tensor_from_file(\"node\")\n",
    "relation_embeddings = mi.tensor_from_file(\"rel\")"
   ]
  },
  {
   "cell_type": "markdown",
   "metadata": {},
   "source": [
    "### Obtain the embedding vectors for given node and relation in our inference example ###"
   ]
  },
  {
   "cell_type": "code",
   "execution_count": 3,
   "metadata": {},
   "outputs": [],
   "source": [
    "src_node = \"__wisconsin_NN_2\"\n",
    "relation = \"_instance_hypernym\"\n",
    "\n",
    "src_emb = mi.lookup_embedding(\"node\", src_node, node_embeddings)\n",
    "rel_emb = mi.lookup_embedding(\"rel\", relation, relation_embeddings)"
   ]
  },
  {
   "cell_type": "markdown",
   "metadata": {},
   "source": [
    "### Get top 3 nodes and similarity scores that are inferenced based on given node and relation ###"
   ]
  },
  {
   "cell_type": "code",
   "execution_count": 10,
   "metadata": {},
   "outputs": [
    {
     "data": {
      "text/plain": [
       "['__american_state_NN_1', '__madison_NN_2', '__midwestern_united_states_NN_1']"
      ]
     },
     "execution_count": 10,
     "metadata": {},
     "output_type": "execute_result"
    }
   ],
   "source": [
    "scores, topk = mi.infer_topk_nodes(3, src_emb, rel_emb, node_embeddings)\n",
    "topk"
   ]
  },
  {
   "cell_type": "code",
   "execution_count": 11,
   "metadata": {},
   "outputs": [
    {
     "data": {
      "text/plain": [
       "tensor([12.8738,  9.9087,  8.6178])"
      ]
     },
     "execution_count": 11,
     "metadata": {},
     "output_type": "execute_result"
    }
   ],
   "source": [
    "scores"
   ]
  },
  {
   "cell_type": "code",
   "execution_count": 12,
   "metadata": {},
   "outputs": [
    {
     "data": {
      "text/plain": [
       "['__sweden_NN_1', '__norway_NN_1', '__kingdom_of_denmark_NN_1']"
      ]
     },
     "execution_count": 12,
     "metadata": {},
     "output_type": "execute_result"
    }
   ],
   "source": [
    "#__scandinavia_NN_2, _member_meronym, __kingdom_of_denmark_NN_1\n",
    "src_node = \"__scandinavia_NN_2\"  \n",
    "relation = \"_member_meronym\"\n",
    "\n",
    "src_emb = mi.lookup_embedding(\"node\", src_node, node_embeddings)\n",
    "rel_emb = mi.lookup_embedding(\"rel\", relation, relation_embeddings)\n",
    "\n",
    "scores, topk = mi.infer_topk_nodes(3, src_emb, rel_emb, node_embeddings)\n",
    "topk"
   ]
  },
  {
   "cell_type": "code",
   "execution_count": 11,
   "metadata": {},
   "outputs": [
    {
     "data": {
      "text/plain": [
       "['__national_capital_NN_1', '__range_of_mountains_NN_1', '__town_NN_1']"
      ]
     },
     "execution_count": 11,
     "metadata": {},
     "output_type": "execute_result"
    }
   ],
   "source": [
    "#__kobenhavn_NN_1, _instance_hypernym, __national_capital_NN_1\n",
    "src_node = \"__kobenhavn_NN_1\"  \n",
    "relation = \"_instance_hypernym\"\n",
    "\n",
    "src_emb = mi.lookup_embedding(\"node\", src_node, node_embeddings)\n",
    "rel_emb = mi.lookup_embedding(\"rel\", relation, relation_embeddings)\n",
    "\n",
    "scores, topk = mi.infer_topk_nodes(3, src_emb, rel_emb, node_embeddings)\n",
    "topk"
   ]
  }
 ],
 "metadata": {
  "kernelspec": {
   "display_name": "Python 3",
   "language": "python",
   "name": "python3"
  },
  "language_info": {
   "codemirror_mode": {
    "name": "ipython",
    "version": 3
   },
   "file_extension": ".py",
   "mimetype": "text/x-python",
   "name": "python",
   "nbconvert_exporter": "python",
   "pygments_lexer": "ipython3",
   "version": "3.8.0"
  }
 },
 "nbformat": 4,
 "nbformat_minor": 2
}
